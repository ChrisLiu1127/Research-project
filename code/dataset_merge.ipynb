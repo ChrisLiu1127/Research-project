{
 "cells": [
  {
   "cell_type": "code",
   "execution_count": null,
   "metadata": {},
   "outputs": [],
   "source": [
    "import os\n",
    "import pandas as pd\n",
    "\n",
    "folder_path = \"./data/\"\n",
    "save_path = \"./\"\n",
    "\n",
    "csv_files = [f for f in os.listdir(folder_path) if f.endswith('.csv')]\n",
    "csv_files.sort()  \n",
    "df_list = []\n",
    "for file_name in csv_files:\n",
    "    file_path = os.path.join(folder_path, file_name)\n",
    "    df = pd.read_csv(file_path, encoding='utf-8') \n",
    "    df_list.append(df)\n",
    "\n",
    "df_merged = pd.concat(df_list, ignore_index=True)\n",
    "\n",
    "output_csv = os.path.join(save_path, \"merged_data.csv\")\n",
    "df_merged.to_csv(output_csv, index=False, encoding='utf-8')\n",
    "\n",
    "print(\"合并完成，结果保存在:\", output_csv)\n"
   ]
  },
  {
   "cell_type": "code",
   "execution_count": null,
   "metadata": {},
   "outputs": [],
   "source": [
    "file_path = \"merged_data.csv\"\n",
    "df = pd.read_csv(file_path)\n",
    "\n",
    "duplicate_rows = df[df.duplicated()]\n",
    "\n",
    "print(duplicate_rows)\n",
    "\n",
    "df_no_duplicates = df.drop_duplicates()\n",
    "\n",
    "cleaned_file_path = \"merged_data_no_duplicates.csv\"  \n",
    "df_no_duplicates.to_csv(cleaned_file_path, index=False)\n"
   ]
  }
 ],
 "metadata": {
  "kernelspec": {
   "display_name": "Python 3",
   "language": "python",
   "name": "python3"
  },
  "language_info": {
   "codemirror_mode": {
    "name": "ipython",
    "version": 3
   },
   "file_extension": ".py",
   "mimetype": "text/x-python",
   "name": "python",
   "nbconvert_exporter": "python",
   "pygments_lexer": "ipython3",
   "version": "3.10.0"
  }
 },
 "nbformat": 4,
 "nbformat_minor": 2
}
