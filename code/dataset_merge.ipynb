{
 "cells": [
  {
   "cell_type": "markdown",
   "metadata": {},
   "source": [
    "# Data Merge"
   ]
  },
  {
   "cell_type": "code",
   "execution_count": null,
   "metadata": {},
   "outputs": [],
   "source": [
    "import os\n",
    "import pandas as pd\n",
    "import pandas as pd\n",
    "import re\n",
    "from collections import Counter\n",
    "import matplotlib.pyplot as plt"
   ]
  },
  {
   "cell_type": "code",
   "execution_count": null,
   "metadata": {},
   "outputs": [],
   "source": [
    "folder_path = \"./Original data/\"\n",
    "save_path = \"./\"\n",
    "csv_files = [f for f in os.listdir(folder_path) if f.endswith('.csv')]\n",
    "csv_files.sort() \n",
    "\n",
    "df_list = []\n",
    "for file_name in csv_files:\n",
    "    file_path = os.path.join(folder_path, file_name)\n",
    "    df = pd.read_csv(file_path, encoding='utf-8') \n",
    "    df_list.append(df)\n",
    "\n",
    "df_merged = pd.concat(df_list, ignore_index=True)\n",
    "\n",
    "output_csv = os.path.join(save_path, \"./Relevant dataset/merged_data.csv\")\n",
    "df_merged.to_csv(output_csv, index=False, encoding='utf-8')\n",
    "\n"
   ]
  },
  {
   "cell_type": "code",
   "execution_count": null,
   "metadata": {},
   "outputs": [],
   "source": [
    "file_path = \"./Relevant dataset/merged_data.csv\" \n",
    "df = pd.read_csv(file_path)\n",
    "\n",
    "duplicate_rows = df[df.duplicated()]\n",
    "\n",
    "print(duplicate_rows)\n",
    "\n",
    "df_no_duplicates = df.drop_duplicates()\n",
    "\n",
    "cleaned_file_path = \"./Relevant dataset/merged_data_no_duplicates.csv\" \n",
    "df_no_duplicates.to_csv(cleaned_file_path, index=False)\n",
    "\n"
   ]
  },
  {
   "cell_type": "code",
   "execution_count": null,
   "metadata": {},
   "outputs": [],
   "source": [
    "file_path = \"./Relevant dataset/merged_data.csv\" \n",
    "df = pd.read_csv(file_path)\n",
    "\n",
    "df['CASEVERSION'] = pd.to_numeric(df['CASEVERSION'], errors='coerce')\n",
    "\n",
    "df_latest = df.loc[df.groupby('CASEID')['CASEVERSION'].idxmax()]\n",
    "\n",
    "cleaned_file_path = \"./Relevant dataset/merged_data_no_duplicates.csv\"\n",
    "df_latest.to_csv(cleaned_file_path, index=False)"
   ]
  },
  {
   "cell_type": "code",
   "execution_count": null,
   "metadata": {},
   "outputs": [],
   "source": [
    "df = pd.read_csv(\"./Relevant dataset/merged_data_no_duplicates.csv\")\n",
    "\n",
    "hiv_keywords = [\"HIV\", \"AIDS\", \"Human Immunodeficiency Virus\", \"Acquired immunodeficiency syndrome\", \"Immune reconstitution inflammatory syndrome associated tuberculosis\", \"Antiretroviral therapy\"]\n",
    "\n",
    "df_hiv_direct = df[df[\"INDI_PT\"].str.contains('|'.join(hiv_keywords), case=False, na=False)]\n",
    "\n",
    "df_hiv_direct.to_csv(\"./Relevant dataset/hiv_directly_related.csv\", index=False)\n"
   ]
  },
  {
   "cell_type": "code",
   "execution_count": null,
   "metadata": {},
   "outputs": [],
   "source": [
    "main_df = pd.read_csv(\"./Relevant dataset/hiv_directly_related.csv\")\n",
    "efv_mono_df = pd.read_csv(\"./Relevant dataset/only_EFV_drug_name.csv\")       \n",
    "efv_combo_df = pd.read_csv(\"./Relevant dataset/combin_drugnames.csv\")       \n",
    "\n",
    "main_df['DRUGNAME_UPPER'] = main_df['DRUGNAME'].str.upper()\n",
    "efv_mono_set = set(efv_mono_df['DRUGNAME'].str.upper())\n",
    "efv_combo_set = set(efv_combo_df['DRUGNAME'].str.upper())\n",
    "\n",
    "efv_mono_records = main_df[main_df['DRUGNAME_UPPER'].isin(efv_mono_set)].drop(columns=['DRUGNAME_UPPER'])\n",
    "efv_combo_records = main_df[main_df['DRUGNAME_UPPER'].isin(efv_combo_set)].drop(columns=['DRUGNAME_UPPER'])\n",
    "\n",
    "efv_mono_records.to_csv(\"./Relevant dataset/efv_only_records.csv\", index=False)\n",
    "efv_combo_records.to_csv(\"./Relevant dataset/efv_combination_records.csv\", index=False)\n"
   ]
  },
  {
   "cell_type": "code",
   "execution_count": null,
   "metadata": {},
   "outputs": [],
   "source": [
    "file_path = \"./Relevant dataset/efv_only_records.csv\"\n",
    "df = pd.read_csv(file_path)\n",
    "\n",
    "\n",
    "if \"PT\" not in df.columns:\n",
    "    raise ValueError(\"Cannot find PT\")\n",
    "\n",
    "descriptions = df[\"PT\"].dropna().astype(str).tolist()\n",
    "\n",
    "adverse_events = []\n",
    "for desc in descriptions:\n",
    "    events = re.split(r'[;,]', desc)  \n",
    "    events = [event.strip().lower() for event in events if event.strip()] \n",
    "    adverse_events.extend(events)\n",
    "\n",
    "adverse_event_counts = Counter(adverse_events)\n",
    "\n",
    "\n",
    "df_event_freq = pd.DataFrame(adverse_event_counts.items(), columns=['Adverse Event', 'Count'])\n",
    "df_event_freq = df_event_freq.sort_values(by=\"Count\", ascending=False)\n",
    "\n",
    "df_event_freq.to_csv(\"./Relevant dataset/adverse_event_frequencies.csv\", index=False)"
   ]
  },
  {
   "cell_type": "code",
   "execution_count": null,
   "metadata": {},
   "outputs": [],
   "source": []
  },
  {
   "cell_type": "code",
   "execution_count": null,
   "metadata": {},
   "outputs": [],
   "source": [
    "df = pd.read_csv(\"./Relevant dataset/adverse_event_frequencies.csv\")\n",
    "\n",
    "df_filtered = df[df['Count'] >= 5]\n",
    "\n",
    "df_filtered.to_csv(\"./Relevant dataset/adverse_events_count_ge_5.csv\", index=False)"
   ]
  },
  {
   "cell_type": "code",
   "execution_count": null,
   "metadata": {},
   "outputs": [],
   "source": [
    "\n",
    "ae_file      = './Relevant dataset/adverse_events_count_ge_5.csv'\n",
    "map_file     = './Relevant dataset/pt_to_soc_map.csv'\n",
    "output_file  = './Relevant dataset/ae_to_soc_cluster.csv'\n",
    "\n",
    "ae = pd.read_csv(ae_file, dtype=str)\n",
    "m  = pd.read_csv(map_file, dtype=str)\n",
    "\n",
    "\n",
    "ae['AE_norm'] = ae['Adverse Event'].str.strip().str.lower()\n",
    "m ['PT_norm'] = m ['PT_Term']        .str.strip().str.lower()\n",
    "\n",
    "merged = ae.merge(\n",
    "    m[['PT_norm','SOC_Term']],\n",
    "    left_on='AE_norm',\n",
    "    right_on='PT_norm',\n",
    "    how='left'\n",
    ")\n",
    "\n",
    "result = merged[['Adverse Event','SOC_Term']].rename(\n",
    "    columns={'SOC_Term':'SOC Cluster'}\n",
    ")\n",
    "\n",
    "result.to_csv(output_file, index=False, encoding='utf-8-sig')"
   ]
  }
 ],
 "metadata": {
  "kernelspec": {
   "display_name": "ae_project",
   "language": "python",
   "name": "python3"
  },
  "language_info": {
   "codemirror_mode": {
    "name": "ipython",
    "version": 3
   },
   "file_extension": ".py",
   "mimetype": "text/x-python",
   "name": "python",
   "nbconvert_exporter": "python",
   "pygments_lexer": "ipython3",
   "version": "3.10.16"
  }
 },
 "nbformat": 4,
 "nbformat_minor": 2
}
