{
 "cells": [
  {
   "cell_type": "code",
   "execution_count": null,
   "metadata": {},
   "outputs": [],
   "source": [
    "import pandas as pd\n",
    "\n",
    "df = pd.read_csv(\"merged_data_no_duplicates.csv\")\n",
    "\n",
    "hiv_keywords = [\"HIV\", \"AIDS\", \"Human Immunodeficiency Virus\", \"Acquired immunodeficiency syndrome\", \"Immune reconstitution inflammatory syndrome associated tuberculosis\", \"Antiretroviral therapy\"]\n",
    "\n",
    "df_hiv_direct = df[df[\"INDI_PT\"].str.contains('|'.join(hiv_keywords), case=False, na=False)]\n",
    "\n",
    "df_hiv_direct.to_csv(\"hiv_directly_related.csv\", index=False)\n"
   ]
  }
 ],
 "metadata": {
  "kernelspec": {
   "display_name": "Python 3",
   "language": "python",
   "name": "python3"
  },
  "language_info": {
   "codemirror_mode": {
    "name": "ipython",
    "version": 3
   },
   "file_extension": ".py",
   "mimetype": "text/x-python",
   "name": "python",
   "nbconvert_exporter": "python",
   "pygments_lexer": "ipython3",
   "version": "3.10.0"
  }
 },
 "nbformat": 4,
 "nbformat_minor": 2
}
